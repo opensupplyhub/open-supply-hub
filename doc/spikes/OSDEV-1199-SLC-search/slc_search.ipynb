{
 "cells": [
  {
   "cell_type": "markdown",
   "metadata": {},
   "source": [
    "# OSDEV-1199: SPIKE. Prototype name & address search."
   ]
  }
 ],
 "metadata": {
  "language_info": {
   "name": "python"
  }
 },
 "nbformat": 4,
 "nbformat_minor": 2
}
