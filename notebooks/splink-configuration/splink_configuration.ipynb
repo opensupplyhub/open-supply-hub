{
 "cells": [
  {
   "cell_type": "markdown",
   "id": "7ab09fe9",
   "metadata": {},
   "source": [
    "## Configuration and Exploratory Analysis of the SPLINK Model\n",
    "\n",
    "This notebook contains the configuration and exploratory analysis for using the [SPLINK](https://moj-analytical-services.github.io/splink/index.html) model to run a record linkage algorithm.\n",
    "The goal is to execute this model after receiving results from [OpenSearch](https://opensearch.org/).\n",
    "\n",
    "In general, the idea is to perform the following steps when someone queries the `GET /v1/production-locations/` endpoint with the name and address of the production location:\n",
    "\n",
    "1. First, query the OpenSearch cluster's `production-locations` index using [hybrid search](https://opensearch.org/docs/latest/vector-search/ai-search/hybrid-search/index/).\n",
    "\n",
    "2. After obtaining the search results, use the [real-time record linkage](https://moj-analytical-services.github.io/splink/demos/examples/duckdb/real_time_record_linkage.html) capability of the SPLINK library to generate confidence scores for potential matches.\n"
   ]
  },
  {
   "cell_type": "code",
   "execution_count": 10,
   "id": "bfc4012f",
   "metadata": {},
   "outputs": [],
   "source": [
    "# add default imports\n",
    "import opensearchpy as osp\n",
    "import pandas as pd\n",
    "import splink as spl"
   ]
  },
  {
   "cell_type": "markdown",
   "id": "db29c152",
   "metadata": {},
   "source": [
    "## Load dataset"
   ]
  },
  {
   "cell_type": "code",
   "execution_count": 11,
   "id": "ecdca992",
   "metadata": {},
   "outputs": [
    {
     "name": "stdout",
     "output_type": "stream",
     "text": [
      "<class 'pandas.core.frame.DataFrame'>\n",
      "RangeIndex: 1118341 entries, 0 to 1118340\n",
      "Data columns (total 10 columns):\n",
      " #   Column                  Non-Null Count    Dtype  \n",
      "---  ------                  --------------    -----  \n",
      " 0   os_id                   1118341 non-null  object \n",
      " 1   name                    1118341 non-null  object \n",
      " 2   address                 1118339 non-null  object \n",
      " 3   lat                     1118341 non-null  float64\n",
      " 4   lng                     1118341 non-null  float64\n",
      " 5   geo_hash                1118341 non-null  object \n",
      " 6   country_code            1118331 non-null  object \n",
      " 7   found_score             1118341 non-null  float64\n",
      " 8   geocoded_location_type  1027110 non-null  object \n",
      " 9   geocoded_address        1027110 non-null  object \n",
      "dtypes: float64(3), object(7)\n",
      "memory usage: 85.3+ MB\n"
     ]
    }
   ],
   "source": [
    "locs_df = pd.read_csv(\"production_locations.csv\")\n",
    "locs_df = locs_df.drop(columns=[\n",
    "    \"created_at\",\n",
    "    \"updated_at\",\n",
    "    \"potential_match_score\",\n",
    "    \"potential_match_os_id\",\n",
    "    \"found_index\"\n",
    "])\n",
    "locs_df.info()"
   ]
  },
  {
   "cell_type": "code",
   "execution_count": null,
   "id": "2caf4be3",
   "metadata": {},
   "outputs": [],
   "source": []
  }
 ],
 "metadata": {
  "kernelspec": {
   "display_name": "open-supply-hub",
   "language": "python",
   "name": "python3"
  },
  "language_info": {
   "codemirror_mode": {
    "name": "ipython",
    "version": 3
   },
   "file_extension": ".py",
   "mimetype": "text/x-python",
   "name": "python",
   "nbconvert_exporter": "python",
   "pygments_lexer": "ipython3",
   "version": "3.8.20"
  }
 },
 "nbformat": 4,
 "nbformat_minor": 5
}
