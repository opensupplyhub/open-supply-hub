{
 "cells": [
  {
   "cell_type": "markdown",
   "id": "7ab09fe9",
   "metadata": {},
   "source": [
    "## Configuration and Exploratory Analysis of the SPLINK Model\n",
    "\n",
    "This notebook contains the configuration and exploratory analysis for using the [SPLINK](https://moj-analytical-services.github.io/splink/index.html) model to run a record linkage algorithm.\n",
    "The goal is to execute this model after receiving results from [OpenSearch](https://opensearch.org/).\n",
    "\n",
    "In general, the idea is to perform the following steps when someone queries the `GET /v1/production-locations/` endpoint with the name and address of the production location:\n",
    "\n",
    "1. First, query the OpenSearch cluster's `production-locations` index using [hybrid search](https://opensearch.org/docs/latest/vector-search/ai-search/hybrid-search/index/).\n",
    "\n",
    "2. After obtaining the search results, use the [real-time record linkage](https://moj-analytical-services.github.io/splink/demos/examples/duckdb/real_time_record_linkage.html) capability of the SPLINK library to generate confidence scores for potential matches.\n"
   ]
  }
 ],
 "metadata": {
  "language_info": {
   "name": "python"
  }
 },
 "nbformat": 4,
 "nbformat_minor": 5
}
