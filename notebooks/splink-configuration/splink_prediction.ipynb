{
 "cells": [
  {
   "cell_type": "code",
   "execution_count": null,
   "id": "cd11d859",
   "metadata": {},
   "outputs": [],
   "source": [
    "from splink import Linker, DuckDBAPI\n",
    "import pandas as pd\n",
    "\n",
    "db_api = DuckDBAPI()"
   ]
  },
  {
   "cell_type": "code",
   "execution_count": null,
   "id": "8e2c89f8",
   "metadata": {},
   "outputs": [],
   "source": [
    "locs_df = pd.read_csv(\"production_locations_ds.csv\")\n",
    "locs_df = locs_df.drop(columns=[\n",
    "    \"created_at\",\n",
    "    \"updated_at\",\n",
    "    \"potential_match_score\",\n",
    "    \"potential_match_os_id\",\n",
    "    \"found_index\"\n",
    "])\n",
    "sample_df = locs_df.sample(10000)\n",
    "sample_df = sample_df[['os_id','name', 'address', 'country_code', 'geocoded_location_type', 'lat', 'lng']]\n",
    "sample_df"
   ]
  },
  {
   "cell_type": "code",
   "execution_count": null,
   "id": "608a483c",
   "metadata": {},
   "outputs": [],
   "source": [
    "\n",
    "test_rec = locs_df.sample(1)[['os_id','name', 'address', 'country_code', 'geocoded_location_type', 'lat', 'lng']]\n",
    "test_rec"
   ]
  },
  {
   "cell_type": "code",
   "execution_count": null,
   "id": "989770b8",
   "metadata": {},
   "outputs": [],
   "source": [
    "import json\n",
    "\n",
    "with open(\"record_linkage_model_beta.json\", \"r\") as file:\n",
    "    record_linkage_model = json.load(file)\n",
    "\n",
    "linker = Linker(\n",
    "    sample_df,\n",
    "    settings=record_linkage_model,\n",
    "    db_api=db_api,\n",
    ")"
   ]
  },
  {
   "cell_type": "code",
   "execution_count": null,
   "id": "1fd988a0",
   "metadata": {},
   "outputs": [],
   "source": [
    "df_predictions = linker.inference.predict(threshold_match_probability=0.2)\n",
    "df_predictions.as_pandas_dataframe()"
   ]
  },
  {
   "cell_type": "code",
   "execution_count": null,
   "id": "78e18978",
   "metadata": {},
   "outputs": [],
   "source": [
    "lk_df = df_predictions.as_pandas_dataframe().sort_values(\"match_weight\", ascending=False)"
   ]
  },
  {
   "cell_type": "code",
   "execution_count": null,
   "id": "c9afddc4",
   "metadata": {},
   "outputs": [],
   "source": [
    "lk_df[lk_df[\"match_probability\"] > 0.8].to_csv(\"lk_df.csv\", index=False)"
   ]
  },
  {
   "cell_type": "code",
   "execution_count": null,
   "id": "50226a61",
   "metadata": {},
   "outputs": [],
   "source": [
    "df_inc = linker.inference.find_matches_to_new_records(\n",
    "    sample_df.sample(10), blocking_rules=[]\n",
    ").as_pandas_dataframe()\n",
    "df_inc.sort_values(\"match_weight\", ascending=False)"
   ]
  }
 ],
 "metadata": {
  "kernelspec": {
   "display_name": "open-supply-hub",
   "language": "python",
   "name": "python3"
  },
  "language_info": {
   "codemirror_mode": {
    "name": "ipython",
    "version": 3
   },
   "file_extension": ".py",
   "mimetype": "text/x-python",
   "name": "python",
   "nbconvert_exporter": "python",
   "pygments_lexer": "ipython3",
   "version": "3.8.20"
  }
 },
 "nbformat": 4,
 "nbformat_minor": 5
}
